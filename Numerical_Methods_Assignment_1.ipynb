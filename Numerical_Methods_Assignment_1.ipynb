{
 "cells": [
  {
   "cell_type": "markdown",
   "id": "5417346c",
   "metadata": {},
   "source": [
    "# Assignment#1\n",
    "\n",
    "**TASK#1 :** Explain each code in detail by adding comments in each line.\n",
    "\n",
    "**TASK#2 :** Compare the results of following questions with all methods and also plot the graphs of all functions.\n",
    "\n",
    "# Note :\n",
    "\n",
    "All codes are solved for your better understanding and as reference. You need to find the soltution of all\n",
    "\n",
    "problems and then compare the results by making a table. For example you can make a table in Excel sheet.  \n",
    "\n",
    "**Questions#1**\n",
    "\n",
    "Find the roots of the following cubic equation:<br>\n",
    "    $x^3-5x-9=0$\n",
    "\n",
    "Take Guess1 = 2 and Guess2 = 3\n",
    "\n",
    "**Question#2**\n",
    "\n",
    "Find the roots of the following cubic equation:<br>\n",
    "    $2x^3-9.5x+7.5=0$\n",
    "    \n",
    "take initial guess = 5 \n",
    "\n",
    "**Question#3**\n",
    "\n",
    "Find the root of the following equation:\n",
    "\n",
    "$x^2-sin^2(x)-4x+1=0$\n",
    "\n",
    "take guess1 = 0 and guess2 = 1\n",
    "\n",
    "**Question#4**\n",
    "    \n",
    "Find the roots of the following equation\n",
    "\n",
    "$2x^2 - 5x + 3 = 0$ \n",
    "\n",
    "take guess1 = -2 and guess2 = 2"
   ]
  },
  {
   "cell_type": "markdown",
   "id": "4e84277c",
   "metadata": {},
   "source": [
    "# 1- Bisection Method"
   ]
  },
  {
   "cell_type": "code",
   "execution_count": 8,
   "id": "fc5c0e8d",
   "metadata": {},
   "outputs": [
    {
     "name": "stdout",
     "output_type": "stream",
     "text": [
      "first guess: 2\n",
      "second guess: 3\n",
      "tolerance: 0.00001\n",
      "iteration 1, x2 = 2.500000 and f(x2)= -5.875000\n",
      "iteration 2, x2 = 2.750000 and f(x2)= -1.953125\n",
      "iteration 3, x2 = 2.875000 and f(x2)= 0.388672\n",
      "iteration 4, x2 = 2.812500 and f(x2)= -0.815186\n",
      "iteration 5, x2 = 2.843750 and f(x2)= -0.221588\n",
      "iteration 6, x2 = 2.859375 and f(x2)= 0.081448\n",
      "iteration 7, x2 = 2.851562 and f(x2)= -0.070592\n",
      "iteration 8, x2 = 2.855469 and f(x2)= 0.005297\n",
      "iteration 9, x2 = 2.853516 and f(x2)= -0.032680\n",
      "iteration 10, x2 = 2.854492 and f(x2)= -0.013700\n",
      "iteration 11, x2 = 2.854980 and f(x2)= -0.004204\n",
      "iteration 12, x2 = 2.855225 and f(x2)= 0.000546\n",
      "iteration 13, x2 = 2.855103 and f(x2)= -0.001829\n",
      "iteration 14, x2 = 2.855164 and f(x2)= -0.000641\n",
      "iteration 15, x2 = 2.855194 and f(x2)= -0.000048\n",
      "iteration 16, x2 = 2.855209 and f(x2)= 0.000249\n",
      "iteration 17, x2 = 2.855202 and f(x2)= 0.000101\n",
      "iteration 18, x2 = 2.855198 and f(x2)= 0.000027\n",
      "iteration 19, x2 = 2.855196 and f(x2)= -0.000011\n",
      "iteration 20, x2 = 2.855197 and f(x2)= 0.000008\n",
      "root is :2.85519695 \n"
     ]
    }
   ],
   "source": [
    "# guess1 = 2, guess2 = 3\n",
    "from math import sin\n",
    "def bisection(x0,x1,e): \n",
    "    step = 1\n",
    "    condition = True\n",
    "    while condition:\n",
    "        x2 = (x0+x1)/2\n",
    "        print('iteration %d, x2 = %0.6f and f(x2)= %0.6f' %(step,x2,f(x2)))\n",
    "        \n",
    "        if f(x0) * f(x2) < 0:\n",
    "            x1 = x2\n",
    "        else:\n",
    "            x0 = x2\n",
    "        step = step +1\n",
    "        condition = abs(f(x2)) > e\n",
    "    print('root is :%0.8f '%x2)\n",
    "#    return x2\n",
    "\n",
    "def f(x):\n",
    "    return x**3-5*x-9\n",
    "\n",
    "x0 = float(input('first guess: '))\n",
    "x1 = float(input('second guess: '))\n",
    "e  = float(input('tolerance: '))\n",
    "\n",
    "if f(x0) * f(x1) > 0.0:\n",
    "    print('given guess values do not bracket the root')\n",
    "else:\n",
    "    root = bisection(x0,x1,e)"
   ]
  },
  {
   "cell_type": "markdown",
   "id": "62b894b3",
   "metadata": {},
   "source": [
    "# 2- Newton's Raphson Method"
   ]
  },
  {
   "cell_type": "code",
   "execution_count": 10,
   "id": "5040dac2",
   "metadata": {},
   "outputs": [
    {
     "name": "stdout",
     "output_type": "stream",
     "text": [
      "the root is 1.500 at 7 iterations.\n"
     ]
    }
   ],
   "source": [
    "from math import sin\n",
    "def newton(fn,dfn,x,tol,maxiter):\n",
    "    for i in range(maxiter):\n",
    "        xnew = x - fn(x)/dfn(x)\n",
    "        if abs(xnew-x)<tol:                          \n",
    "            break\n",
    "        x = xnew\n",
    "    return xnew, i\n",
    "\n",
    "y = lambda x: 2*x**3-9.5*x+7.5\n",
    "dy = lambda x : 6*x**2-9.5\n",
    "\n",
    "x, n = newton(y, dy, 5, 0.0001, 100)\n",
    "print('the root is %.3f at %d iterations.'%(x,n))"
   ]
  },
  {
   "cell_type": "markdown",
   "id": "55eeed2c",
   "metadata": {},
   "source": [
    "# 3- Regula Falsi Method"
   ]
  },
  {
   "cell_type": "code",
   "execution_count": 11,
   "id": "ca72b9b0",
   "metadata": {},
   "outputs": [
    {
     "name": "stdout",
     "output_type": "stream",
     "text": [
      "enter x1: 0\n",
      "enter x2: 1\n",
      "The root = 0.250324 at 4 false position\n"
     ]
    }
   ],
   "source": [
    "from math import sin\n",
    "def reg_falsi(f,x1,x2,tol=1.0e-6,maxfpos=100):\n",
    "    \n",
    "    if f(x1) * f(x2)<0:\n",
    "        for fpos in range(1,maxfpos+1):\n",
    "            xh = x2 - (x2-x1)/(f(x2)-f(x1)) * f(x2)\n",
    "            if abs(f(xh)) < tol:\n",
    "                break\n",
    "            elif f(x1) * f(xh) < 0:\n",
    "                x2 = xh\n",
    "            else:\n",
    "                x1 = xh\n",
    "    else:\n",
    "        print('No roots exists within the given interval')\n",
    "        \n",
    "    return xh, fpos\n",
    "\n",
    "y = lambda x: x**2 - sin(x)**2 - 4*x + 1\n",
    "\n",
    "x1 = float(input('enter x1: '))\n",
    "x2 = float(input('enter x2: '))\n",
    "\n",
    "r, n = reg_falsi(y,x1,x2)\n",
    "print('The root = %f at %d false position'%(r,n))"
   ]
  },
  {
   "cell_type": "markdown",
   "id": "170cac1e",
   "metadata": {},
   "source": [
    "# 4- Secant Method"
   ]
  },
  {
   "cell_type": "code",
   "execution_count": 12,
   "id": "05c3d4fa",
   "metadata": {},
   "outputs": [
    {
     "name": "stdout",
     "output_type": "stream",
     "text": [
      "enter x1: -2\n",
      "enter x2: 2\n",
      "Root = 1.500000 at 8 iterations\n"
     ]
    }
   ],
   "source": [
    "from math import sin\n",
    "def secant(fn,x1,x2,tol,maxiter):\n",
    "    for i in range(maxiter):\n",
    "        xnew  = x2 - (x2-x1)/(fn(x2)-fn(x1))*fn(x2)\n",
    "        if abs(xnew-x2) < tol:\n",
    "            break\n",
    "        else:\n",
    "            x1 = x2\n",
    "            x2 = xnew\n",
    "    else:\n",
    "        print('warning: Maximum number of iterations is reached')\n",
    "    return xnew, i\n",
    "\n",
    "f = lambda x: 2*x**2 - 5*x + 3 \n",
    "\n",
    "x1 = float(input('enter x1: '))\n",
    "x2 = float(input('enter x2: '))\n",
    "\n",
    "r, n = secant(f,x1,x2,1.0e-6,100)\n",
    "\n",
    "print('Root = %f at %d iterations'%(r,n))"
   ]
  }
 ],
 "metadata": {
  "kernelspec": {
   "display_name": "Python 3 (ipykernel)",
   "language": "python",
   "name": "python3"
  },
  "language_info": {
   "codemirror_mode": {
    "name": "ipython",
    "version": 3
   },
   "file_extension": ".py",
   "mimetype": "text/x-python",
   "name": "python",
   "nbconvert_exporter": "python",
   "pygments_lexer": "ipython3",
   "version": "3.9.7"
  }
 },
 "nbformat": 4,
 "nbformat_minor": 5
}
